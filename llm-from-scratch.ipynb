{
 "cells": [
  {
   "cell_type": "markdown",
   "id": "950fa179",
   "metadata": {
    "papermill": {
     "duration": 0.008842,
     "end_time": "2024-02-17T21:46:48.479147",
     "exception": false,
     "start_time": "2024-02-17T21:46:48.470305",
     "status": "completed"
    },
    "tags": []
   },
   "source": [
    "# **<center> Constructing an LLM from Scratch<center>**\n",
    "#### The main motive of this notebook is to give a basic knowledge about the working of LLM. In this notebook I will be implementing a basic LLM from scratch and will be explaining it side by side ."
   ]
  },
  {
   "cell_type": "markdown",
   "id": "a6d7a4f9",
   "metadata": {
    "papermill": {
     "duration": 0.008032,
     "end_time": "2024-02-17T21:46:48.495543",
     "exception": false,
     "start_time": "2024-02-17T21:46:48.487511",
     "status": "completed"
    },
    "tags": []
   },
   "source": [
    "## **Importing Modules**"
   ]
  },
  {
   "cell_type": "code",
   "execution_count": 1,
   "id": "b379c828",
   "metadata": {
    "_kg_hide-input": true,
    "_kg_hide-output": true,
    "execution": {
     "iopub.execute_input": "2024-02-17T21:46:48.513754Z",
     "iopub.status.busy": "2024-02-17T21:46:48.513135Z",
     "iopub.status.idle": "2024-02-17T21:46:51.831971Z",
     "shell.execute_reply": "2024-02-17T21:46:51.831062Z"
    },
    "papermill": {
     "duration": 3.330447,
     "end_time": "2024-02-17T21:46:51.834089",
     "exception": false,
     "start_time": "2024-02-17T21:46:48.503642",
     "status": "completed"
    },
    "tags": []
   },
   "outputs": [
    {
     "data": {
      "text/plain": [
       "<torch._C.Generator at 0x7bf2cd4731d0>"
      ]
     },
     "execution_count": 1,
     "metadata": {},
     "output_type": "execute_result"
    }
   ],
   "source": [
    "import torch\n",
    "import torch.nn as nn\n",
    "from torch.nn import functional as F\n",
    "torch.manual_seed(69)"
   ]
  },
  {
   "cell_type": "markdown",
   "id": "f986a3a5",
   "metadata": {
    "papermill": {
     "duration": 0.00819,
     "end_time": "2024-02-17T21:46:51.850805",
     "exception": false,
     "start_time": "2024-02-17T21:46:51.842615",
     "status": "completed"
    },
    "tags": []
   },
   "source": [
    "## **Dataset**"
   ]
  },
  {
   "cell_type": "code",
   "execution_count": 2,
   "id": "c10aa1e6",
   "metadata": {
    "_kg_hide-input": true,
    "execution": {
     "iopub.execute_input": "2024-02-17T21:46:51.869054Z",
     "iopub.status.busy": "2024-02-17T21:46:51.868657Z",
     "iopub.status.idle": "2024-02-17T21:46:51.879552Z",
     "shell.execute_reply": "2024-02-17T21:46:51.878870Z"
    },
    "papermill": {
     "duration": 0.022036,
     "end_time": "2024-02-17T21:46:51.881433",
     "exception": false,
     "start_time": "2024-02-17T21:46:51.859397",
     "status": "completed"
    },
    "tags": []
   },
   "outputs": [],
   "source": [
    "with open('/kaggle/input/shakespeare/shakespeare.txt', 'r', encoding='utf-8') as f:\n",
    "    text = f.read()"
   ]
  },
  {
   "cell_type": "markdown",
   "id": "ba75c735",
   "metadata": {
    "papermill": {
     "duration": 0.008148,
     "end_time": "2024-02-17T21:46:51.897939",
     "exception": false,
     "start_time": "2024-02-17T21:46:51.889791",
     "status": "completed"
    },
    "tags": []
   },
   "source": [
    "## **Hyperparameter For The Model**"
   ]
  },
  {
   "cell_type": "code",
   "execution_count": 3,
   "id": "c80add8d",
   "metadata": {
    "execution": {
     "iopub.execute_input": "2024-02-17T21:46:51.916661Z",
     "iopub.status.busy": "2024-02-17T21:46:51.916390Z",
     "iopub.status.idle": "2024-02-17T21:46:51.964121Z",
     "shell.execute_reply": "2024-02-17T21:46:51.963290Z"
    },
    "papermill": {
     "duration": 0.059784,
     "end_time": "2024-02-17T21:46:51.965978",
     "exception": false,
     "start_time": "2024-02-17T21:46:51.906194",
     "status": "completed"
    },
    "tags": []
   },
   "outputs": [],
   "source": [
    "# Define hyperparameters for training a model\n",
    "batch_size = 16  # how many independent sequences will we process in parallel?\n",
    "block_size = 32  # what is the maximum context length for predictions?\n",
    "max_iters = 5000  # maximum number of training iterations\n",
    "eval_interval = 100  # evaluate the model every `eval_interval` iterations\n",
    "learning_rate = 1e-3  # learning rate for the optimizer\n",
    "device = 'cuda' if torch.cuda.is_available() else 'cpu'  # use GPU if available, otherwise use CPU\n",
    "eval_iters = 200  # number of iterations between each evaluation\n",
    "n_embd = 64  # dimensionality of the embedding layer\n",
    "n_head = 4  # number of attention heads\n",
    "n_layer = 4  # number of transformer layers\n",
    "dropout = 0.5  # dropout probability, set to 0.0 for no dropout\n"
   ]
  },
  {
   "cell_type": "markdown",
   "id": "51281f5d",
   "metadata": {
    "papermill": {
     "duration": 0.008179,
     "end_time": "2024-02-17T21:46:51.982517",
     "exception": false,
     "start_time": "2024-02-17T21:46:51.974338",
     "status": "completed"
    },
    "tags": []
   },
   "source": [
    "Brief explanation of each hyperparameter:\n",
    "\n",
    "1. `batch_size`: This hyperparameter defines the number of independent sequences processed in parallel during each training iteration. It impacts the granularity of parameter updates and memory usage.\n",
    "\n",
    "2. `block_size`: This hyperparameter specifies the maximum length of sequences that the model can process. It determines the context length for predictions and affects the model's ability to capture dependencies within sequences.\n",
    "\n",
    "3. `max_iters`: This hyperparameter sets the maximum number of training iterations or epochs. It controls the duration of training and helps prevent overfitting by limiting the number of updates.\n",
    "\n",
    "4. `eval_interval`: This hyperparameter determines how often the model's performance is evaluated during training. It affects the frequency of monitoring training progress and validation performance.\n",
    "\n",
    "5. `learning_rate`: This hyperparameter controls the step size or rate at which the model parameters are updated during optimization. It influences the convergence speed and stability of the training process.\n",
    "\n",
    "6. `device`: This hyperparameter specifies the device (CPU or GPU) on which the model computations are performed. It allows for efficient utilization of available hardware resources.\n",
    "\n",
    "7. `eval_iters`: This hyperparameter determines the number of iterations between each evaluation of the model's performance. It can be used to reduce computational overhead during evaluation while still providing frequent updates on model performance.\n",
    "\n",
    "8. `n_embd`: This hyperparameter defines the dimensionality of the embedding layer. It determines the size of the vector representations for tokens in the input sequences.\n",
    "\n",
    "9. `n_head`: This hyperparameter specifies the number of attention heads in the multi-head attention mechanism used in the transformer architecture. It controls the model's ability to attend to different parts of the input sequence simultaneously.\n",
    "\n",
    "10. `n_layer`: This hyperparameter sets the number of transformer layers in the model. It determines the depth of the model and its capacity to capture complex patterns in the data.\n",
    "\n",
    "11. `dropout`: This hyperparameter defines the probability of dropping out neurons during training. It helps prevent overfitting by regularizing the model and reducing co-adaptation between neurons. A value of 0.0 means no dropout is applied, while higher values introduce more dropout."
   ]
  },
  {
   "cell_type": "markdown",
   "id": "560b2f63",
   "metadata": {
    "papermill": {
     "duration": 0.008068,
     "end_time": "2024-02-17T21:46:51.998910",
     "exception": false,
     "start_time": "2024-02-17T21:46:51.990842",
     "status": "completed"
    },
    "tags": []
   },
   "source": [
    "## **Converting Strings Into Integers**"
   ]
  },
  {
   "cell_type": "code",
   "execution_count": 4,
   "id": "2fa55263",
   "metadata": {
    "execution": {
     "iopub.execute_input": "2024-02-17T21:46:52.018168Z",
     "iopub.status.busy": "2024-02-17T21:46:52.017497Z",
     "iopub.status.idle": "2024-02-17T21:46:52.024012Z",
     "shell.execute_reply": "2024-02-17T21:46:52.023026Z"
    },
    "papermill": {
     "duration": 0.018776,
     "end_time": "2024-02-17T21:46:52.026059",
     "exception": false,
     "start_time": "2024-02-17T21:46:52.007283",
     "status": "completed"
    },
    "tags": []
   },
   "outputs": [
    {
     "name": "stdout",
     "output_type": "stream",
     "text": [
      "Unique characters that occur in this text :\n",
      " ['\\n', ' ', '!', \"'\", '(', ')', ',', '-', '.', ':', ';', '?', 'A', 'B', 'C', 'D', 'E', 'F', 'G', 'H', 'I', 'J', 'K', 'L', 'M', 'N', 'O', 'P', 'R', 'S', 'T', 'U', 'V', 'W', 'Y', 'a', 'b', 'c', 'd', 'e', 'f', 'g', 'h', 'i', 'j', 'k', 'l', 'm', 'n', 'o', 'p', 'q', 'r', 's', 't', 'u', 'v', 'w', 'x', 'y', 'z']\n"
     ]
    }
   ],
   "source": [
    "chars = sorted(list(set(text)))  # Get unique characters from the text and sort them\n",
    "vocab_size = len(chars)  # Total number of unique characters in the text\n",
    "\n",
    "print(\"Unique characters that occur in this text :\\n\",chars)"
   ]
  },
  {
   "cell_type": "code",
   "execution_count": 5,
   "id": "4b492d49",
   "metadata": {
    "execution": {
     "iopub.execute_input": "2024-02-17T21:46:52.043973Z",
     "iopub.status.busy": "2024-02-17T21:46:52.043694Z",
     "iopub.status.idle": "2024-02-17T21:46:52.049099Z",
     "shell.execute_reply": "2024-02-17T21:46:52.048350Z"
    },
    "papermill": {
     "duration": 0.016637,
     "end_time": "2024-02-17T21:46:52.051017",
     "exception": false,
     "start_time": "2024-02-17T21:46:52.034380",
     "status": "completed"
    },
    "tags": []
   },
   "outputs": [],
   "source": [
    "# create a mapping from characters to integers\n",
    "stoi = {ch: i for i, ch in enumerate(chars)}  # Map each character to an integer index\n",
    "itos = {i: ch for i, ch in enumerate(chars)}  # Map each integer index to a character\n",
    "\n",
    "# Define encoding and decoding functions\n",
    "encode = lambda s: [stoi[c] for c in s]  # Encoder: take a string, output a list of integers\n",
    "decode = lambda l: ''.join([itos[i] for i in l])  # Decoder: take a list of integers, output a string"
   ]
  },
  {
   "cell_type": "markdown",
   "id": "22490eab",
   "metadata": {
    "papermill": {
     "duration": 0.008133,
     "end_time": "2024-02-17T21:46:52.067454",
     "exception": false,
     "start_time": "2024-02-17T21:46:52.059321",
     "status": "completed"
    },
    "tags": []
   },
   "source": [
    "- `stoi`:\n",
    "   - This function creates a mapping from characters to integers (`stoi` stands for \"string to integer\").\n",
    "   - It iterates over each character in the `chars` list and assigns a unique integer index to each character using the `enumerate` function.\n",
    "   - The resulting dictionary `stoi` maps each character to its corresponding integer index.\n",
    "\n",
    "- `itos`:\n",
    "   - This function creates a mapping from integers to characters (`itos` stands for \"integer to string\").\n",
    "   - It iterates over each integer index in the range of the length of `chars` and assigns each index to its corresponding character in the `chars` list.\n",
    "   - The resulting dictionary `itos` maps each integer index to its corresponding character.\n",
    "\n",
    "- `encode`:\n",
    "   - This function defines an encoding function (`encode`), which takes a string (`s`) as input and outputs a list of integers.\n",
    "   - Inside the lambda function, it iterates over each character (`c`) in the input string `s` and uses the `stoi` dictionary to convert each character to its corresponding integer index.\n",
    "\n",
    "- `decode`:\n",
    "   - This function defines a decoding function (`decode`), which takes a list of integers (`l`) as input and outputs a string.\n",
    "   - Inside the lambda function, it iterates over each integer (`i`) in the input list `l` and uses the `itos` dictionary to convert each integer index to its corresponding character.\n",
    "   - Finally, it joins the characters together using `join` to form the decoded string."
   ]
  },
  {
   "cell_type": "markdown",
   "id": "b221c0e0",
   "metadata": {
    "papermill": {
     "duration": 0.008213,
     "end_time": "2024-02-17T21:46:52.084167",
     "exception": false,
     "start_time": "2024-02-17T21:46:52.075954",
     "status": "completed"
    },
    "tags": []
   },
   "source": [
    "## **Test-Train Split**"
   ]
  },
  {
   "cell_type": "code",
   "execution_count": 6,
   "id": "d15a55cf",
   "metadata": {
    "execution": {
     "iopub.execute_input": "2024-02-17T21:46:52.101800Z",
     "iopub.status.busy": "2024-02-17T21:46:52.101528Z",
     "iopub.status.idle": "2024-02-17T21:46:52.146708Z",
     "shell.execute_reply": "2024-02-17T21:46:52.146049Z"
    },
    "papermill": {
     "duration": 0.056074,
     "end_time": "2024-02-17T21:46:52.148532",
     "exception": false,
     "start_time": "2024-02-17T21:46:52.092458",
     "status": "completed"
    },
    "tags": []
   },
   "outputs": [],
   "source": [
    "# Train and test splits\n",
    "data = torch.tensor(encode(text), dtype=torch.long)  # Convert the text to a tensor of integers\n",
    "n = int(0.9 * len(data))  # Calculate the index to split the data into train and validation sets (90% train, 10% validation)\n",
    "train_data = data[:n]  # Training data (first 90% of the data)\n",
    "val_data = data[n:]  # Validation data (remaining 10% of the data)"
   ]
  },
  {
   "cell_type": "markdown",
   "id": "bb0c6f9a",
   "metadata": {
    "papermill": {
     "duration": 0.008122,
     "end_time": "2024-02-17T21:46:52.165306",
     "exception": false,
     "start_time": "2024-02-17T21:46:52.157184",
     "status": "completed"
    },
    "tags": []
   },
   "source": [
    "## **Data Loading**"
   ]
  },
  {
   "cell_type": "code",
   "execution_count": 7,
   "id": "25cd874e",
   "metadata": {
    "execution": {
     "iopub.execute_input": "2024-02-17T21:46:52.182966Z",
     "iopub.status.busy": "2024-02-17T21:46:52.182679Z",
     "iopub.status.idle": "2024-02-17T21:46:52.189079Z",
     "shell.execute_reply": "2024-02-17T21:46:52.188277Z"
    },
    "papermill": {
     "duration": 0.017221,
     "end_time": "2024-02-17T21:46:52.190897",
     "exception": false,
     "start_time": "2024-02-17T21:46:52.173676",
     "status": "completed"
    },
    "tags": []
   },
   "outputs": [],
   "source": [
    "def get_batch(split):\n",
    "    \"\"\"\n",
    "    Function to generate a small batch of data consisting of inputs x and targets y.\n",
    "\n",
    "    Args:\n",
    "    - split: A string indicating whether to use the training or validation data.\n",
    "\n",
    "    Returns:\n",
    "    - x: Input tensor of shape (batch_size, block_size) containing sequences of integers.\n",
    "    - y: Target tensor of shape (batch_size, block_size) containing sequences of integers shifted by one position.\n",
    "    \"\"\"\n",
    "    data = train_data if split == 'train' else val_data  # Select data based on the split (train or validation)\n",
    "    ix = torch.randint(len(data) - block_size, (batch_size,))  # Generate random indices for selecting sequences\n",
    "    x = torch.stack([data[i:i+block_size] for i in ix])  # Extract input sequences of length block_size\n",
    "    y = torch.stack([data[i+1:i+block_size+1] for i in ix])  # Extract target sequences shifted by one position\n",
    "    x, y = x.to(device), y.to(device)  # Move tensors to the specified device (CPU or GPU)\n",
    "    return x, y\n"
   ]
  },
  {
   "cell_type": "markdown",
   "id": "706fbb51",
   "metadata": {
    "papermill": {
     "duration": 0.008294,
     "end_time": "2024-02-17T21:46:52.207489",
     "exception": false,
     "start_time": "2024-02-17T21:46:52.199195",
     "status": "completed"
    },
    "tags": []
   },
   "source": [
    "## **Loss Function**"
   ]
  },
  {
   "cell_type": "code",
   "execution_count": 8,
   "id": "eca99e0f",
   "metadata": {
    "execution": {
     "iopub.execute_input": "2024-02-17T21:46:52.225085Z",
     "iopub.status.busy": "2024-02-17T21:46:52.224843Z",
     "iopub.status.idle": "2024-02-17T21:46:52.230985Z",
     "shell.execute_reply": "2024-02-17T21:46:52.230169Z"
    },
    "papermill": {
     "duration": 0.017196,
     "end_time": "2024-02-17T21:46:52.232949",
     "exception": false,
     "start_time": "2024-02-17T21:46:52.215753",
     "status": "completed"
    },
    "tags": []
   },
   "outputs": [],
   "source": [
    "@torch.no_grad()\n",
    "def estimate_loss():\n",
    "    \"\"\"\n",
    "    Function to estimate the average loss on the training and validation data without performing gradient computation.\n",
    "\n",
    "    Returns:\n",
    "    - out: A dictionary containing the average loss for the training and validation data.\n",
    "    \"\"\"\n",
    "    out = {}  # Initialize a dictionary to store the output\n",
    "    model.eval()  # Set the model to evaluation mode (no gradient calculation)\n",
    "    for split in ['train', 'val']:  # Iterate over training and validation data\n",
    "        losses = torch.zeros(eval_iters)  # Initialize a tensor to store individual losses for each evaluation iteration\n",
    "        for k in range(eval_iters):  # Iterate over evaluation iterations\n",
    "            X, Y = get_batch(split)  # Get a batch of input-output pairs\n",
    "            logits, loss = model(X, Y)  # Forward pass through the model to get predictions and loss\n",
    "            losses[k] = loss.item()  # Store the loss value\n",
    "        out[split] = losses.mean()  # Calculate the mean loss for the current split and store it in the output dictionary\n",
    "    model.train()  # Set the model back to training mode\n",
    "    return out  # Return the dictionary containing the average losses for training and validation data"
   ]
  },
  {
   "cell_type": "markdown",
   "id": "47c7cac9",
   "metadata": {
    "papermill": {
     "duration": 0.008451,
     "end_time": "2024-02-17T21:46:52.249724",
     "exception": false,
     "start_time": "2024-02-17T21:46:52.241273",
     "status": "completed"
    },
    "tags": []
   },
   "source": [
    "The `estimate_loss` function serves to compute the average loss on both the training and validation datasets without engaging in gradient computation. By temporarily disabling gradient calculations and setting the model to evaluation mode, it iterates through the data splits, samples batches, and computes losses over multiple evaluation iterations. The function then returns a dictionary containing the mean losses for each split. This approach efficiently assesses the model's performance without updating its parameters and is crucial for monitoring training progress and model validation."
   ]
  },
  {
   "cell_type": "markdown",
   "id": "a8611731",
   "metadata": {
    "papermill": {
     "duration": 0.008183,
     "end_time": "2024-02-17T21:46:52.266221",
     "exception": false,
     "start_time": "2024-02-17T21:46:52.258038",
     "status": "completed"
    },
    "tags": []
   },
   "source": [
    "## **Model**"
   ]
  },
  {
   "cell_type": "code",
   "execution_count": 9,
   "id": "86b4a5ac",
   "metadata": {
    "execution": {
     "iopub.execute_input": "2024-02-17T21:46:52.284313Z",
     "iopub.status.busy": "2024-02-17T21:46:52.283828Z",
     "iopub.status.idle": "2024-02-17T21:46:52.292993Z",
     "shell.execute_reply": "2024-02-17T21:46:52.292198Z"
    },
    "papermill": {
     "duration": 0.020333,
     "end_time": "2024-02-17T21:46:52.294896",
     "exception": false,
     "start_time": "2024-02-17T21:46:52.274563",
     "status": "completed"
    },
    "tags": []
   },
   "outputs": [],
   "source": [
    "class Head(nn.Module):\n",
    "    \"\"\"\n",
    "    A single head of self-attention mechanism.\n",
    "\n",
    "    Args:\n",
    "    - head_size: The size of the attention head.\n",
    "\n",
    "    Attributes:\n",
    "    - key: Linear transformation for keys.\n",
    "    - query: Linear transformation for queries.\n",
    "    - value: Linear transformation for values.\n",
    "    - tril: Lower triangular mask to prevent attention to future tokens.\n",
    "    - dropout: Dropout layer.\n",
    "    \"\"\"\n",
    "\n",
    "    def __init__(self, head_size):\n",
    "        super().__init__()\n",
    "        # Linear transformations for key, query, and value\n",
    "        self.key = nn.Linear(n_embd, head_size, bias=False)\n",
    "        self.query = nn.Linear(n_embd, head_size, bias=False)\n",
    "        self.value = nn.Linear(n_embd, head_size, bias=False)\n",
    "        # Lower triangular mask to prevent attention to future tokens\n",
    "        self.register_buffer('tril', torch.tril(torch.ones(block_size, block_size)))\n",
    "        # Dropout layer\n",
    "        self.dropout = nn.Dropout(dropout)\n",
    "\n",
    "    def forward(self, x):\n",
    "        \"\"\"\n",
    "        Forward pass of the self-attention mechanism.\n",
    "\n",
    "        Args:\n",
    "        - x: Input tensor of shape (batch_size, sequence_length, feature_dimension).\n",
    "\n",
    "        Returns:\n",
    "        - out: Output tensor after applying self-attention, of shape (batch_size, sequence_length, feature_dimension).\n",
    "        \"\"\"\n",
    "        B, T, C = x.shape  # Batch size, sequence length, and feature dimension\n",
    "        # Linear transformations for key, query, and value\n",
    "        k = self.key(x)   # (B,T,C)\n",
    "        q = self.query(x) # (B,T,C)\n",
    "        \n",
    "        # Compute attention scores (\"affinities\")\n",
    "        wei = q @ k.transpose(-2, -1) * C ** -0.5  # (B, T, C) @ (B, C, T) -> (B, T, T)\n",
    "        wei = wei.masked_fill(self.tril[:T, :T] == 0, float('-inf'))  # Mask future tokens\n",
    "        wei = F.softmax(wei, dim=-1)  # Apply softmax to get attention weights\n",
    "        wei = self.dropout(wei)  # Apply dropout\n",
    "        \n",
    "        # Perform the weighted aggregation of the values\n",
    "        v = self.value(x)  # (B,T,C)\n",
    "        out = wei @ v  # (B, T, T) @ (B, T, C) -> (B, T, C)\n",
    "        return out"
   ]
  },
  {
   "cell_type": "markdown",
   "id": "5e018542",
   "metadata": {
    "papermill": {
     "duration": 0.008058,
     "end_time": "2024-02-17T21:46:52.311336",
     "exception": false,
     "start_time": "2024-02-17T21:46:52.303278",
     "status": "completed"
    },
    "tags": []
   },
   "source": [
    "The `Head` class represents a single head of the self-attention mechanism used in the Transformer architecture. Below is an explanation of its architecture and functionality:\n",
    "\n",
    "- **Architecture**:\n",
    "  - **Linear Transformations**: The class initializes three linear transformations for keys, queries, and values, each of which maps the input tensor (`x`) from the feature dimension (`n_embd`) to the specified head size.\n",
    "  - **Lower Triangular Mask**: It creates a lower triangular mask (`tril`) as a buffer using PyTorch's `tril` function, ensuring that during the attention computation, the model does not attend to future tokens in the sequence.\n",
    "  - **Dropout Layer**: A dropout layer is applied to the attention weights (`wei`) to regularize the model and prevent overfitting.\n",
    "\n",
    "- **Functionality**:\n",
    "  - **Forward Pass**: In the `forward` method, the input tensor (`x`) is passed through the linear transformations to obtain the keys (`k`), queries (`q`), and values (`v`).\n",
    "  - **Attention Computation**: The attention scores, also known as affinities, are computed by performing a matrix multiplication between queries and keys, scaled by the square root of the feature dimension (`C`). The resulting attention weights (`wei`) are masked to prevent attention to future tokens using the lower triangular mask and then normalized using softmax to obtain valid attention probabilities.\n",
    "  - **Weighted Aggregation**: The values (`v`) are weighted by the attention probabilities (`wei`) and aggregated using matrix multiplication to produce the output tensor (`out`), representing the attended features."
   ]
  },
  {
   "cell_type": "code",
   "execution_count": 10,
   "id": "e2122a58",
   "metadata": {
    "execution": {
     "iopub.execute_input": "2024-02-17T21:46:52.329495Z",
     "iopub.status.busy": "2024-02-17T21:46:52.328938Z",
     "iopub.status.idle": "2024-02-17T21:46:52.336244Z",
     "shell.execute_reply": "2024-02-17T21:46:52.335451Z"
    },
    "papermill": {
     "duration": 0.018466,
     "end_time": "2024-02-17T21:46:52.338096",
     "exception": false,
     "start_time": "2024-02-17T21:46:52.319630",
     "status": "completed"
    },
    "tags": []
   },
   "outputs": [],
   "source": [
    "class MultiHeadAttention(nn.Module):\n",
    "    \"\"\"\n",
    "    Multi-head self-attention mechanism.\n",
    "\n",
    "    Args:\n",
    "    - num_heads: The number of attention heads.\n",
    "    - head_size: The size of each attention head.\n",
    "\n",
    "    Attributes:\n",
    "    - heads: List of attention heads.\n",
    "    - proj: Linear transformation for projecting concatenated attention heads.\n",
    "    - dropout: Dropout layer.\n",
    "    \"\"\"\n",
    "\n",
    "    def __init__(self, num_heads, head_size):\n",
    "        super().__init__()\n",
    "        # Create multiple attention heads\n",
    "        self.heads = nn.ModuleList([Head(head_size) for _ in range(num_heads)])\n",
    "        # Linear transformation for projecting concatenated attention heads\n",
    "        self.proj = nn.Linear(n_embd, n_embd)\n",
    "        # Dropout layer\n",
    "        self.dropout = nn.Dropout(dropout)\n",
    "\n",
    "    def forward(self, x):\n",
    "        \"\"\"\n",
    "        Forward pass of the multi-head self-attention mechanism.\n",
    "\n",
    "        Args:\n",
    "        - x: Input tensor of shape (batch_size, sequence_length, feature_dimension).\n",
    "\n",
    "        Returns:\n",
    "        - out: Output tensor after applying multi-head self-attention, of shape (batch_size, sequence_length, feature_dimension).\n",
    "        \"\"\"\n",
    "        # Apply each attention head in parallel and concatenate the outputs\n",
    "        out = torch.cat([h(x) for h in self.heads], dim=-1)\n",
    "        # Project the concatenated output\n",
    "        out = self.dropout(self.proj(out))\n",
    "        return out"
   ]
  },
  {
   "cell_type": "markdown",
   "id": "02a44df1",
   "metadata": {
    "papermill": {
     "duration": 0.008048,
     "end_time": "2024-02-17T21:46:52.354411",
     "exception": false,
     "start_time": "2024-02-17T21:46:52.346363",
     "status": "completed"
    },
    "tags": []
   },
   "source": [
    "The `MultiHeadAttention` class implements a multi-head self-attention mechanism, a crucial component of the Transformer architecture. Below is an explanation of its architecture and functionality:\n",
    "\n",
    "- **Architecture**:\n",
    "  - **Multiple Attention Heads**: The class initializes multiple attention heads (`heads`) using a `ModuleList`, each with the specified `head_size`. The number of attention heads is determined by the `num_heads` parameter.\n",
    "  - **Projection Layer**: After applying each attention head in parallel, the outputs are concatenated and passed through a linear transformation (`proj`). This projection layer helps in combining information from multiple attention heads.\n",
    "  - **Dropout Layer**: To regularize the model and prevent overfitting, a dropout layer is applied after the projection layer.\n",
    "\n",
    "- **Functionality**:\n",
    "  - **Forward Pass**: In the `forward` method, the input tensor (`x`) is passed through each attention head in parallel. The outputs from all attention heads are concatenated along the feature dimension.\n",
    "  - **Concatenation**: The outputs from different attention heads are concatenated along the last dimension (`dim=-1`), resulting in a tensor with increased feature dimensionality.\n",
    "  - **Projection**: The concatenated tensor is then projected back to the original feature dimensionality using a linear transformation (`proj`). This step helps maintain the desired feature dimensionality and facilitates information integration from multiple attention heads.\n",
    "  - **Dropout**: Finally, dropout is applied to the projected tensor to regularize the model and mitigate overfitting."
   ]
  },
  {
   "cell_type": "code",
   "execution_count": 11,
   "id": "546a243b",
   "metadata": {
    "execution": {
     "iopub.execute_input": "2024-02-17T21:46:52.372161Z",
     "iopub.status.busy": "2024-02-17T21:46:52.371900Z",
     "iopub.status.idle": "2024-02-17T21:46:52.377919Z",
     "shell.execute_reply": "2024-02-17T21:46:52.377105Z"
    },
    "papermill": {
     "duration": 0.016981,
     "end_time": "2024-02-17T21:46:52.379783",
     "exception": false,
     "start_time": "2024-02-17T21:46:52.362802",
     "status": "completed"
    },
    "tags": []
   },
   "outputs": [],
   "source": [
    "class FeedFoward(nn.Module):\n",
    "    \"\"\"\n",
    "    Feedforward neural network composed of linear layers followed by a non-linearity and dropout.\n",
    "\n",
    "    Args:\n",
    "    - n_embd: The input and output dimension of the linear layers.\n",
    "\n",
    "    Attributes:\n",
    "    - net: Sequential module containing linear layers, ReLU activation, and dropout.\n",
    "    \"\"\"\n",
    "\n",
    "    def __init__(self, n_embd):\n",
    "        super().__init__()\n",
    "        # Define a sequential neural network module\n",
    "        self.net = nn.Sequential(\n",
    "            # First linear layer followed by ReLU activation\n",
    "            nn.Linear(n_embd, 4 * n_embd),\n",
    "            nn.ReLU(),\n",
    "            # Second linear layer\n",
    "            nn.Linear(4 * n_embd, n_embd),\n",
    "            # Dropout layer\n",
    "            nn.Dropout(dropout),\n",
    "        )\n",
    "\n",
    "    def forward(self, x):\n",
    "        \"\"\"\n",
    "        Forward pass of the feedforward neural network.\n",
    "\n",
    "        Args:\n",
    "        - x: Input tensor of shape (batch_size, sequence_length, feature_dimension).\n",
    "\n",
    "        Returns:\n",
    "        - out: Output tensor after applying the feedforward network, of shape (batch_size, sequence_length, feature_dimension).\n",
    "        \"\"\"\n",
    "        return self.net(x)"
   ]
  },
  {
   "cell_type": "markdown",
   "id": "2cc7fb77",
   "metadata": {
    "papermill": {
     "duration": 0.008144,
     "end_time": "2024-02-17T21:46:52.396174",
     "exception": false,
     "start_time": "2024-02-17T21:46:52.388030",
     "status": "completed"
    },
    "tags": []
   },
   "source": [
    "The `FeedForward` class defines a feedforward neural network architecture composed of linear layers followed by a non-linearity (ReLU activation) and dropout. Here's an explanation of its architecture:\n",
    "\n",
    "- **Architecture**:\n",
    "  - **Sequential Module**: The class initializes a `Sequential` module containing a sequence of operations applied sequentially to the input tensor.\n",
    "  - **Linear Layers**: Two linear layers are defined within the sequential module. \n",
    "    - The first linear layer takes an input of dimension `n_embd` and outputs a tensor of dimension `4 * n_embd`.\n",
    "    - The second linear layer takes the output of the first layer (with dimension `4 * n_embd`) and maps it back to the original input dimensionality (`n_embd`).\n",
    "  - **Activation Function**: Between the linear layers, a Rectified Linear Unit (ReLU) activation function is applied element-wise. ReLU introduces non-linearity to the network, allowing it to learn complex mappings from input to output.\n",
    "  - **Dropout Layer**: After the second linear layer, dropout is applied. Dropout randomly sets a fraction of input units to zero during training, which helps prevent overfitting by reducing the model's reliance on specific units.\n",
    "  \n",
    "- **Functionality**:\n",
    "  - **Forward Pass**: In the `forward` method, the input tensor (`x`) is passed through the sequential module, which sequentially applies the linear layers, ReLU activation, and dropout.\n",
    "  - **Output**: The output tensor after passing through the feedforward network has the same shape as the input tensor (`(batch_size, sequence_length, feature_dimension)`), with each element representing the corresponding feature in the input sequence transformed by the feedforward network."
   ]
  },
  {
   "cell_type": "code",
   "execution_count": 12,
   "id": "ea52b8c0",
   "metadata": {
    "execution": {
     "iopub.execute_input": "2024-02-17T21:46:52.413805Z",
     "iopub.status.busy": "2024-02-17T21:46:52.413526Z",
     "iopub.status.idle": "2024-02-17T21:46:52.420669Z",
     "shell.execute_reply": "2024-02-17T21:46:52.419835Z"
    },
    "papermill": {
     "duration": 0.018117,
     "end_time": "2024-02-17T21:46:52.422523",
     "exception": false,
     "start_time": "2024-02-17T21:46:52.404406",
     "status": "completed"
    },
    "tags": []
   },
   "outputs": [],
   "source": [
    "class Block(nn.Module):\n",
    "    \"\"\"\n",
    "    Transformer block\n",
    "\n",
    "    Args:\n",
    "    - n_embd: The embedding dimension.\n",
    "    - n_head: The number of attention heads.\n",
    "\n",
    "    Attributes:\n",
    "    - sa: Multi-head self-attention module.\n",
    "    - ffwd: Feedforward neural network module.\n",
    "    - ln1: Layer normalization module.\n",
    "    - ln2: Layer normalization module.\n",
    "    \"\"\"\n",
    "\n",
    "    def __init__(self, n_embd, n_head):\n",
    "        \"\"\"\n",
    "        Initialize the Transformer block.\n",
    "\n",
    "        Args:\n",
    "        - n_embd: The embedding dimension.\n",
    "        - n_head: The number of attention heads.\n",
    "        \"\"\"\n",
    "        super().__init__()\n",
    "        # Calculate the size of each attention head\n",
    "        head_size = n_embd // n_head\n",
    "        # Multi-head self-attention module\n",
    "        self.sa = MultiHeadAttention(n_head, head_size)\n",
    "        # Feedforward neural network module\n",
    "        self.ffwd = FeedFoward(n_embd)\n",
    "        # Layer normalization module\n",
    "        self.ln1 = nn.LayerNorm(n_embd)\n",
    "        self.ln2 = nn.LayerNorm(n_embd)\n",
    "\n",
    "    def forward(self, x):\n",
    "        \"\"\"\n",
    "        Forward pass of the Transformer block.\n",
    "\n",
    "        Args:\n",
    "        - x: Input tensor of shape (batch_size, sequence_length, feature_dimension).\n",
    "\n",
    "        Returns:\n",
    "        - out: Output tensor after applying the Transformer block, of shape (batch_size, sequence_length, feature_dimension).\n",
    "        \"\"\"\n",
    "        # Apply multi-head self-attention followed by layer normalization and residual connection\n",
    "        x = x + self.sa(self.ln1(x))\n",
    "        # Apply feedforward network followed by layer normalization and residual connection\n",
    "        x = x + self.ffwd(self.ln2(x))\n",
    "        return x"
   ]
  },
  {
   "cell_type": "markdown",
   "id": "71f0aea7",
   "metadata": {
    "papermill": {
     "duration": 0.008143,
     "end_time": "2024-02-17T21:46:52.439597",
     "exception": false,
     "start_time": "2024-02-17T21:46:52.431454",
     "status": "completed"
    },
    "tags": []
   },
   "source": [
    "The `Block` class represents a single Transformer block, which is a fundamental building block of the Transformer architecture. Below is an explanation of its architecture:\n",
    "\n",
    "- **Architecture**:\n",
    "  - **Multi-Head Self-Attention Module**: The block initializes a multi-head self-attention module (`sa`), which consists of multiple attention heads operating in parallel. Each attention head independently attends to different parts of the input sequence, allowing the model to capture long-range dependencies efficiently.\n",
    "  - **Feedforward Neural Network Module**: It also initializes a feedforward neural network module (`ffwd`), which consists of linear layers followed by ReLU activation and dropout. This component introduces non-linearity and enables the model to capture complex patterns in the data.\n",
    "  - **Layer Normalization Modules**: Two layer normalization modules (`ln1` and `ln2`) are initialized. Layer normalization normalizes the activations of each layer, helping stabilize the training process and improve model performance.\n",
    "  \n",
    "- **Functionality**:\n",
    "  - **Forward Pass**: In the `forward` method, the input tensor (`x`) is passed through the multi-head self-attention module (`sa`). The output is then passed through layer normalization (`ln1`) and added to the input tensor (`x`) to form a residual connection.\n",
    "  - **Feedforward Network**: Next, the output from the attention module is passed through the feedforward neural network (`ffwd`). Again, the output is passed through layer normalization (`ln2`) and added to the previous output to form another residual connection.\n",
    "  - **Output**: The final output of the Transformer block represents the processed input tensor, capturing both the self-attention and feedforward network transformations."
   ]
  },
  {
   "cell_type": "code",
   "execution_count": 13,
   "id": "639402a8",
   "metadata": {
    "execution": {
     "iopub.execute_input": "2024-02-17T21:46:52.458009Z",
     "iopub.status.busy": "2024-02-17T21:46:52.457694Z",
     "iopub.status.idle": "2024-02-17T21:46:52.471105Z",
     "shell.execute_reply": "2024-02-17T21:46:52.470266Z"
    },
    "papermill": {
     "duration": 0.024956,
     "end_time": "2024-02-17T21:46:52.472984",
     "exception": false,
     "start_time": "2024-02-17T21:46:52.448028",
     "status": "completed"
    },
    "tags": []
   },
   "outputs": [],
   "source": [
    "class BigramLanguageModel(nn.Module):\n",
    "    \"\"\"\n",
    "    Super simple bigram language model.\n",
    "\n",
    "    Attributes:\n",
    "    - token_embedding_table: Embedding layer for token embeddings.\n",
    "    - position_embedding_table: Embedding layer for position embeddings.\n",
    "    - blocks: Sequential module of Transformer blocks.\n",
    "    - ln_f: Layer normalization for the final layer.\n",
    "    - lm_head: Linear layer for language modeling.\n",
    "    \"\"\"\n",
    "\n",
    "    def __init__(self):\n",
    "        super().__init__()\n",
    "        # Embedding layer for token embeddings\n",
    "        self.token_embedding_table = nn.Embedding(vocab_size, n_embd)\n",
    "        # Embedding layer for position embeddings\n",
    "        self.position_embedding_table = nn.Embedding(block_size, n_embd)\n",
    "        # Sequential module of Transformer blocks\n",
    "        self.blocks = nn.Sequential(*[Block(n_embd, n_head=n_head) for _ in range(n_layer)])\n",
    "        # Layer normalization for the final layer\n",
    "        self.ln_f = nn.LayerNorm(n_embd)\n",
    "        # Linear layer for language modeling\n",
    "        self.lm_head = nn.Linear(n_embd, vocab_size)\n",
    "\n",
    "    def forward(self, idx, targets=None):\n",
    "        \"\"\"\n",
    "        Forward pass of the bigram language model.\n",
    "\n",
    "        Args:\n",
    "        - idx: Input tensor of shape (batch_size, sequence_length) containing token indices.\n",
    "        - targets: Target tensor of shape (batch_size, sequence_length) containing target token indices.\n",
    "\n",
    "        Returns:\n",
    "        - logits: Logits tensor of shape (batch_size, sequence_length, vocab_size) containing predicted logits.\n",
    "        - loss: Optional loss tensor computed using cross-entropy if targets are provided.\n",
    "        \"\"\"\n",
    "        B, T = idx.shape\n",
    "\n",
    "        # Token embeddings\n",
    "        tok_emb = self.token_embedding_table(idx)  # (B,T,C)\n",
    "        # Position embeddings\n",
    "        pos_emb = self.position_embedding_table(torch.arange(T, device=device))  # (T,C)\n",
    "        # Add token and position embeddings\n",
    "        x = tok_emb + pos_emb  # (B,T,C)\n",
    "        # Pass through Transformer blocks\n",
    "        x = self.blocks(x)  # (B,T,C)\n",
    "        # Apply layer normalization\n",
    "        x = self.ln_f(x)  # (B,T,C)\n",
    "        # Linear layer for language modeling\n",
    "        logits = self.lm_head(x)  # (B,T,vocab_size)\n",
    "\n",
    "        # Calculate loss if targets are provided\n",
    "        if targets is None:\n",
    "            loss = None\n",
    "        else:\n",
    "            B, T, C = logits.shape\n",
    "            logits = logits.view(B * T, C)\n",
    "            targets = targets.view(B * T)\n",
    "            loss = F.cross_entropy(logits, targets)\n",
    "\n",
    "        return logits, loss\n",
    "\n",
    "    def generate(self, idx, max_new_tokens):\n",
    "        \"\"\"\n",
    "        Generate new tokens using the bigram language model.\n",
    "\n",
    "        Args:\n",
    "        - idx: Input tensor of shape (batch_size, sequence_length) containing token indices.\n",
    "        - max_new_tokens: Maximum number of new tokens to generate.\n",
    "\n",
    "        Returns:\n",
    "        - idx: Tensor containing the input tokens extended with generated tokens, of shape (batch_size, sequence_length + max_new_tokens).\n",
    "        \"\"\"\n",
    "        # Iterate for max_new_tokens iterations\n",
    "        for _ in range(max_new_tokens):\n",
    "            # Crop idx to the last block_size tokens\n",
    "            idx_cond = idx[:, -block_size:]\n",
    "            # Get the predictions\n",
    "            logits, _ = self(idx_cond)\n",
    "            # Focus only on the last time step\n",
    "            logits = logits[:, -1, :]  # (B, C)\n",
    "            # Apply softmax to get probabilities\n",
    "            probs = F.softmax(logits, dim=-1)  # (B, C)\n",
    "            # Sample from the distribution\n",
    "            idx_next = torch.multinomial(probs, num_samples=1)  # (B, 1)\n",
    "            # Append sampled index to the running sequence\n",
    "            idx = torch.cat((idx, idx_next), dim=1)  # (B, T+1)\n",
    "        return idx"
   ]
  },
  {
   "cell_type": "markdown",
   "id": "8ee1515c",
   "metadata": {
    "papermill": {
     "duration": 0.008102,
     "end_time": "2024-02-17T21:46:52.489460",
     "exception": false,
     "start_time": "2024-02-17T21:46:52.481358",
     "status": "completed"
    },
    "tags": []
   },
   "source": [
    "The `BigramLanguageModel` class represents a simple bigram language model based on the Transformer architecture. Here's an explanation of its architecture and functionality:\n",
    "\n",
    "- **Architecture**:\n",
    "  - **Token Embedding Layer**: Initializes an embedding layer (`token_embedding_table`) to map token indices to dense vector representations. The size of the embedding matrix is determined by the vocabulary size (`vocab_size`) and the embedding dimension (`n_embd`).\n",
    "  - **Position Embedding Layer**: Creates another embedding layer (`position_embedding_table`) to encode positional information into the input tokens. This layer assigns a unique position embedding to each token position in the sequence.\n",
    "  - **Transformer Blocks**: Utilizes a sequence of Transformer blocks (`blocks`) to process the input sequence. Each block consists of multi-head self-attention followed by feedforward neural network layers, facilitating the capture of contextual dependencies and patterns within the input sequence.\n",
    "  - **Layer Normalization**: Applies layer normalization (`ln_f`) after the Transformer blocks to stabilize the learning process and improve model performance.\n",
    "  - **Linear Layer for Language Modeling**: Defines a linear layer (`lm_head`) to project the output of the Transformer blocks to the vocabulary size, producing logits for each token in the vocabulary.\n",
    "\n",
    "- **Functionality**:\n",
    "  - **Forward Pass**: In the `forward` method, the input tensor (`idx`) containing token indices is passed through the token embedding layer and added to position embeddings. The resulting tensor is then processed by the Transformer blocks and layer normalization, followed by the linear layer to compute logits for language modeling. If targets are provided, the method also computes the cross-entropy loss.\n",
    "  - **Token Generation**: The `generate` method generates new tokens by iteratively predicting the next token based on the previous sequence. It repeatedly samples from the softmax distribution of logits for the last token and appends the sampled token to the sequence until the specified maximum number of new tokens is generated."
   ]
  },
  {
   "cell_type": "markdown",
   "id": "f91d4cdc",
   "metadata": {
    "papermill": {
     "duration": 0.008096,
     "end_time": "2024-02-17T21:46:52.506169",
     "exception": false,
     "start_time": "2024-02-17T21:46:52.498073",
     "status": "completed"
    },
    "tags": []
   },
   "source": [
    "## **Training**"
   ]
  },
  {
   "cell_type": "code",
   "execution_count": 14,
   "id": "d7237fbb",
   "metadata": {
    "execution": {
     "iopub.execute_input": "2024-02-17T21:46:52.524164Z",
     "iopub.status.busy": "2024-02-17T21:46:52.523905Z",
     "iopub.status.idle": "2024-02-17T21:50:40.897609Z",
     "shell.execute_reply": "2024-02-17T21:50:40.896520Z"
    },
    "papermill": {
     "duration": 228.385245,
     "end_time": "2024-02-17T21:50:40.899850",
     "exception": false,
     "start_time": "2024-02-17T21:46:52.514605",
     "status": "completed"
    },
    "tags": []
   },
   "outputs": [
    {
     "name": "stdout",
     "output_type": "stream",
     "text": [
      "0.209213 M parameters\n",
      "step 0: train loss 4.3193, val loss 4.3138\n",
      "step 100: train loss 2.5515, val loss 2.5568\n",
      "step 200: train loss 2.4189, val loss 2.4242\n",
      "step 300: train loss 2.3738, val loss 2.3882\n",
      "step 400: train loss 2.3395, val loss 2.3455\n",
      "step 500: train loss 2.3080, val loss 2.3140\n",
      "step 600: train loss 2.2704, val loss 2.2786\n",
      "step 700: train loss 2.2340, val loss 2.2375\n",
      "step 800: train loss 2.2004, val loss 2.2153\n",
      "step 900: train loss 2.1841, val loss 2.2072\n",
      "step 1000: train loss 2.1548, val loss 2.1685\n",
      "step 1100: train loss 2.1148, val loss 2.1354\n",
      "step 1200: train loss 2.1044, val loss 2.1290\n",
      "step 1300: train loss 2.0781, val loss 2.1119\n",
      "step 1400: train loss 2.0639, val loss 2.0925\n",
      "step 1500: train loss 2.0460, val loss 2.0793\n",
      "step 1600: train loss 2.0279, val loss 2.0630\n",
      "step 1700: train loss 2.0083, val loss 2.0587\n",
      "step 1800: train loss 2.0144, val loss 2.0471\n",
      "step 1900: train loss 1.9851, val loss 2.0272\n",
      "step 2000: train loss 1.9826, val loss 2.0196\n",
      "step 2100: train loss 1.9646, val loss 2.0077\n",
      "step 2200: train loss 1.9510, val loss 1.9979\n",
      "step 2300: train loss 1.9445, val loss 1.9937\n",
      "step 2400: train loss 1.9365, val loss 1.9870\n",
      "step 2500: train loss 1.9276, val loss 1.9815\n",
      "step 2600: train loss 1.9102, val loss 1.9811\n",
      "step 2700: train loss 1.9088, val loss 1.9597\n",
      "step 2800: train loss 1.9075, val loss 1.9535\n",
      "step 2900: train loss 1.8946, val loss 1.9402\n",
      "step 3000: train loss 1.8924, val loss 1.9452\n",
      "step 3100: train loss 1.8666, val loss 1.9371\n",
      "step 3200: train loss 1.8748, val loss 1.9288\n",
      "step 3300: train loss 1.8635, val loss 1.9294\n",
      "step 3400: train loss 1.8620, val loss 1.9280\n",
      "step 3500: train loss 1.8420, val loss 1.9209\n",
      "step 3600: train loss 1.8547, val loss 1.9221\n",
      "step 3700: train loss 1.8422, val loss 1.9033\n",
      "step 3800: train loss 1.8331, val loss 1.9030\n",
      "step 3900: train loss 1.8282, val loss 1.9048\n",
      "step 4000: train loss 1.8268, val loss 1.8984\n",
      "step 4100: train loss 1.8207, val loss 1.8999\n",
      "step 4200: train loss 1.8188, val loss 1.8996\n",
      "step 4300: train loss 1.8072, val loss 1.8784\n",
      "step 4400: train loss 1.8037, val loss 1.8854\n",
      "step 4500: train loss 1.7988, val loss 1.8873\n",
      "step 4600: train loss 1.8026, val loss 1.8760\n",
      "step 4700: train loss 1.7925, val loss 1.8671\n",
      "step 4800: train loss 1.7944, val loss 1.8699\n",
      "step 4900: train loss 1.7894, val loss 1.8741\n",
      "step 4999: train loss 1.7761, val loss 1.8608\n"
     ]
    }
   ],
   "source": [
    "model = BigramLanguageModel()  # Initialize the BigramLanguageModel\n",
    "m = model.to(device)  # Move the model to the specified device (CPU or GPU)\n",
    "# Print the number of parameters in the model\n",
    "print(sum(p.numel() for p in m.parameters()) / 1e6, 'M parameters')\n",
    "\n",
    "# Create a PyTorch optimizer\n",
    "optimizer = torch.optim.AdamW(model.parameters(), lr=learning_rate)\n",
    "\n",
    "# Main training loop\n",
    "for iter in range(max_iters):\n",
    "\n",
    "    # Every once in a while, evaluate the loss on train and validation sets\n",
    "    if iter % eval_interval == 0 or iter == max_iters - 1:\n",
    "        # Estimate loss on train and val sets\n",
    "        losses = estimate_loss()\n",
    "        print(f\"step {iter}: train loss {losses['train']:.4f}, val loss {losses['val']:.4f}\")\n",
    "\n",
    "    # Sample a batch of data\n",
    "    xb, yb = get_batch('train')\n",
    "\n",
    "    # Evaluate the loss\n",
    "    logits, loss = model(xb, yb)\n",
    "    # Zero the gradients before the backward pass\n",
    "    optimizer.zero_grad(set_to_none=True)\n",
    "    # Backpropagation: compute gradients\n",
    "    loss.backward()\n",
    "    # Update model parameters\n",
    "    optimizer.step()\n"
   ]
  },
  {
   "cell_type": "markdown",
   "id": "953ed003",
   "metadata": {
    "papermill": {
     "duration": 0.0125,
     "end_time": "2024-02-17T21:50:40.925794",
     "exception": false,
     "start_time": "2024-02-17T21:50:40.913294",
     "status": "completed"
    },
    "tags": []
   },
   "source": [
    "## **Output Of The Model**"
   ]
  },
  {
   "cell_type": "code",
   "execution_count": 15,
   "id": "faa0a8ca",
   "metadata": {
    "execution": {
     "iopub.execute_input": "2024-02-17T21:50:40.951713Z",
     "iopub.status.busy": "2024-02-17T21:50:40.951278Z",
     "iopub.status.idle": "2024-02-17T21:50:56.808079Z",
     "shell.execute_reply": "2024-02-17T21:50:56.807048Z"
    },
    "papermill": {
     "duration": 15.87278,
     "end_time": "2024-02-17T21:50:56.810776",
     "exception": false,
     "start_time": "2024-02-17T21:50:40.937996",
     "status": "completed"
    },
    "tags": []
   },
   "outputs": [
    {
     "name": "stdout",
     "output_type": "stream",
     "text": [
      "\n",
      "ghts ther whe noth thast hup ase stenpetters,\n",
      "But disse sselove stlove:\n",
      "\n",
      "Orlof anon dects chires, thy and morede par to dote,\n",
      "\n",
      "Aght file yought ey a to thou bed,\n",
      "But truthers,\n",
      "Anbe thier with, and, chame do oth I conth '(but ought sure-deariose of stroomfed,\n",
      "That you shee lecestin reaked, owee proos, mons,\n",
      "But thunteounore bed To xeye, as un poince,\n",
      "Withater,\n",
      "Hake shunce, as my com, thering.\n",
      "A min's bewhints, thou heyu, many time waity\n",
      "No might a jeccht telf to bull\n",
      "Blow ve mights be ge\n",
      "Row to  tirel, thend phold ame (heal I now anloove wound in wed mu adt I sell.\n",
      "Theid see, rut weet tong kned,\n",
      "Mut so swa to, sifter orean, apn's suble on 'se lisgeauty ser in \n",
      "Bust of that I lies so fe whit, freark,\n",
      "That ond frror poonte, law\n",
      "By thou peaume shall my four's baken thens!\n",
      "Doth yos houghts coproong my alo', an thing preidn,\n",
      "So leagure forgh bettome then muse)\n",
      "To weart my swing deor exind pay:\n",
      "As ching my sunlie) feter in no scor in herwine,\n",
      "Wroms hightae oo love.  \n",
      "Frighiing bearks thy sun'rive troue,\n",
      "Bearnow, to me bay thee theangrt firs,\n",
      "My timing haveng coof wningsuld whath swith tancry seep,\n",
      "Why imunging hou a lieve nears my by now,\n",
      "Met Aris herstent it ar worsed: \n",
      "So eyor, thou kined that hase rovings,\n",
      "To sualligich lime loves fariors eve\n",
      "Lour'swich's fraasterss unlacgns,\n",
      "To pencont, my hold I walls weagin in heor-somes,\n",
      "Thenbs reas that and bese aleart:\n",
      "I apk to and wearnet ise blaing a oaingete\n",
      "To thime days lie prome, reoun.\n",
      "\n",
      "For mexgiqut my min's git skeaunn the hee daince,\n",
      "And doably fer mores ande fe.  \n",
      "\n",
      "\n",
      "Fo ong your, rinfy fhit sairds mayks vyour whirmath fingres\n",
      "Sight of be hin is beanitys never appeage agays:\n",
      "The onow you me send thalls be cairty shen vail day,\n",
      "Thou hou ad the hachencis shed, whate crue anon groot hewdserong my to wo nights thou dorst,\n",
      "That his siab\n",
      "O's may footh nece In arven, I high eake and net withapt.\n",
      "\n",
      "\n",
      "\n",
      "\n",
      "Or strign me he mins by here:\n",
      "Wheere thy ponomm whith then is hat hin to worth inme ewet bestink.\n",
      "\n",
      "I srup ric thy eard,\n",
      "Or boor that\n"
     ]
    }
   ],
   "source": [
    "# generate from the model\n",
    "context = torch.zeros((1, 1), dtype=torch.long, device=device)\n",
    "print(decode(m.generate(context, max_new_tokens=2000)[0].tolist()))"
   ]
  },
  {
   "cell_type": "markdown",
   "id": "36bc47e3",
   "metadata": {
    "papermill": {
     "duration": 0.012265,
     "end_time": "2024-02-17T21:50:56.840554",
     "exception": false,
     "start_time": "2024-02-17T21:50:56.828289",
     "status": "completed"
    },
    "tags": []
   },
   "source": [
    "## **Results**\n",
    "\n",
    "#### The results are very bad as you can see but it has captured some patterns in the test and the struture of sentence is more human like. If we make the model more complex we will surely get better results."
   ]
  }
 ],
 "metadata": {
  "kaggle": {
   "accelerator": "gpu",
   "dataSources": [
    {
     "datasetId": 868818,
     "sourceId": 1480377,
     "sourceType": "datasetVersion"
    }
   ],
   "dockerImageVersionId": 30648,
   "isGpuEnabled": true,
   "isInternetEnabled": true,
   "language": "python",
   "sourceType": "notebook"
  },
  "kernelspec": {
   "display_name": "Python 3",
   "language": "python",
   "name": "python3"
  },
  "language_info": {
   "codemirror_mode": {
    "name": "ipython",
    "version": 3
   },
   "file_extension": ".py",
   "mimetype": "text/x-python",
   "name": "python",
   "nbconvert_exporter": "python",
   "pygments_lexer": "ipython3",
   "version": "3.10.13"
  },
  "papermill": {
   "default_parameters": {},
   "duration": 253.216742,
   "end_time": "2024-02-17T21:50:59.061329",
   "environment_variables": {},
   "exception": null,
   "input_path": "__notebook__.ipynb",
   "output_path": "__notebook__.ipynb",
   "parameters": {},
   "start_time": "2024-02-17T21:46:45.844587",
   "version": "2.5.0"
  }
 },
 "nbformat": 4,
 "nbformat_minor": 5
}
